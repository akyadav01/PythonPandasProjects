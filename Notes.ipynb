{
 "cells": [
  {
   "cell_type": "markdown",
   "metadata": {},
   "source": [
    "## CREATE A MASTER BRANCH IN GITHUB\n",
    "\n",
    "step1: create a local folder to keep your program files\n",
    "\n",
    "step2: drag thid folder and drop it to your VS code home page\n",
    "\n",
    "step3: inside the created folder ...create one \"master\" folder (it will be default directory on github)\n",
    "\n",
    "step4: now add different files by names (using vscode editor) to this master folder and then push it to github using following steps\n",
    "\n",
    "step4a: git init\n",
    "step4b: git add . (add folder and files to git repository)\n",
    "step4c: git commit -m \"m1\"\n",
    "step4d: git remote add origin [URL path of repository]\n",
    "step4e: git push origin master\n",
    "\n",
    "for next file m2:\n",
    "step1: git add .\n",
    "step2: git commit -m \"m2\"\n",
    "step3: git push origin master\n",
    "\n",
    "\n",
    "\n"
   ]
  },
  {
   "cell_type": "markdown",
   "metadata": {},
   "source": [
    "## CREATE ANOTHER BRANCH IN GITHUB\n",
    "step1: git checkout -b ForbesProject (create this folder using VS Code editor)\n",
    "step2: create files for this branch (using VS Code)\n",
    "## ADD f1.txt in NEW BRANCH\n",
    "step3: git add . (add all folders and files)\n",
    "step4: git commit -m \"f1\"\n",
    "step5: git push origin ForbesProject\n",
    "\n",
    "\n"
   ]
  }
 ],
 "metadata": {
  "language_info": {
   "name": "python"
  }
 },
 "nbformat": 4,
 "nbformat_minor": 2
}
